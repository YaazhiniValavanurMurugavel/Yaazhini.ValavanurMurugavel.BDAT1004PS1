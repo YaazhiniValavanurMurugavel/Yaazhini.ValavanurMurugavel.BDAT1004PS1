{
 "cells": [
  {
   "cell_type": "markdown",
   "id": "ef193497",
   "metadata": {},
   "source": [
    "Question 1 \n",
    "What data type is each of the following?"
   ]
  },
  {
   "cell_type": "code",
   "execution_count": null,
   "id": "7e527032",
   "metadata": {},
   "outputs": [],
   "source": [
    "\n",
    "import math\n",
    "\n",
    "print(type(5))  # Output: <class 'int'>\n",
    "print(type(5.0))  # Output: <class 'float'>\n",
    "print(type(5 > 1))  # Output: <class 'bool'>\n",
    "print(type('5'))  # Output: <class 'str'>\n",
    "print(type(5 * 2))  # Output: <class 'int'>\n",
    "print(type('5' * 2))  # Output: <class 'str'>\n",
    "print(type('5' + '2'))  # Output: <class 'str'>\n",
    "print(type(5 / 2))  # Output: <class 'float'>\n",
    "print(type({5, 2, 1}))  # Output: <class 'set'>\n",
    "print(type(5 == 3))  # Output: <class 'bool'>\n",
    "print(type(3.14)) # Output: <class 'float'>"
   ]
  },
  {
   "cell_type": "markdown",
   "id": "2f50d0bb",
   "metadata": {},
   "source": [
    "Question 2 \n",
    "Write (and evaluate) Python expressions that answer these questions:\n",
    "a. How many letters are there in 'Supercalifragilisticexpialidocious'?"
   ]
  },
  {
   "cell_type": "code",
   "execution_count": null,
   "id": "01507f17",
   "metadata": {},
   "outputs": [],
   "source": [
    "word = 'Supercalifragilisticexpialidocious'\n",
    "num_Of_letters = len(word)\n",
    "print(\"Number of letters:\", num_Of_letters)\n",
    "\n",
    "#OUTPUT = Number of letters: 34"
   ]
  },
  {
   "cell_type": "markdown",
   "id": "beacb074",
   "metadata": {},
   "source": [
    "b. Does 'Supercalifragilisticexpialidocious' contain 'ice' as a substring?"
   ]
  },
  {
   "cell_type": "code",
   "execution_count": null,
   "id": "ccd36378",
   "metadata": {},
   "outputs": [],
   "source": [
    "\n",
    "letter = 'Supercalifragilisticexpialidocious'\n",
    "contain_ice = 'ice' in letter\n",
    "print(\"Contains 'ice' as a substring:\", contain_ice)\n",
    "\n",
    "#OUTPUT = Contains 'ice' as a substring: True"
   ]
  },
  {
   "cell_type": "markdown",
   "id": "9c75198e",
   "metadata": {},
   "source": [
    "c. Which of the following words is the longest: Supercalifragilisticexpialidocious, Honorificabilitudinitatibus, or Bababadalgharaghtakamminarronnkonn?"
   ]
  },
  {
   "cell_type": "code",
   "execution_count": null,
   "id": "3486e15f",
   "metadata": {},
   "outputs": [],
   "source": [
    "word = ['Supercalifragilisticexpialidocious', 'Honorificabilitudinitatibus', 'Bababadalgharaghtakamminarronnkonn']\n",
    "longest_Of_all = max(word, key=len)\n",
    "print(\"Longest word:\", longest_Of_all)\n",
    "\n",
    "#OUTPUT = Longest word: Supercalifragilisticexpialidocious"
   ]
  },
  {
   "cell_type": "markdown",
   "id": "e3dc53bf",
   "metadata": {},
   "source": [
    "d. Which composer comes first in the dictionary: 'Berlioz', 'Borodin', 'Brian', 'Bartok', 'Bellini', 'Buxtehude', 'Bernstein'. Which one comes last?"
   ]
  },
  {
   "cell_type": "code",
   "execution_count": null,
   "id": "8f96965c",
   "metadata": {},
   "outputs": [],
   "source": [
    "words = ['Berlioz', 'Borodin', 'Brian', 'Bartok', 'Bellini', 'Buxtehude', 'Bernstein']\n",
    "first_word = min(words)\n",
    "last_word = max(words)\n",
    "print(\"First composer in dictionary order:\", first_word)\n",
    "print(\"Last composer in dictionary order:\", last_word)\n",
    "\n",
    "#OUTPUT = First composer in dictionary order: Bartok\n",
    "#         Last composer in dictionary order: Buxtehude\n"
   ]
  },
  {
   "cell_type": "markdown",
   "id": "371b304a",
   "metadata": {},
   "source": [
    "3.Implement function triangleArea(a,b,c) that takes as input the lengths of the 3\n",
    "sides of a triangle and returns the area of the triangle. By Heron's formula, the area\n",
    "of a triangle with side lengths a, b, and c is\n",
    "s(s - a)(s -b)(s -c), where\n",
    "s = (a +b + c) /2."
   ]
  },
  {
   "cell_type": "code",
   "execution_count": null,
   "id": "0032fd3d",
   "metadata": {},
   "outputs": [],
   "source": [
    "def triangleArea(a, b, c):\n",
    "    s = (a + b + c) / 2\n",
    "    area_Of_triangle = (s * (s - a) * (s - b) * (s - c)) ** 0.5\n",
    "    return area_Of_triangle\n",
    "\n",
    "# Test the function with the given input\n",
    "triangleArea(2, 2, 2)\n",
    "\n",
    "#Output\n",
    "#1.73205080756887723\n"
   ]
  },
  {
   "cell_type": "markdown",
   "id": "caf5bba3",
   "metadata": {},
   "source": [
    "4.Write a program in python to separate odd and even integers in separate arrays. Go\n",
    "to the editor\n",
    "Test Data :\n",
    "Input the number of elements to be stored in the array :5\n",
    "Input 5 elements in the array :\n",
    "element - 0 : 25\n",
    "element - 1 : 47\n",
    "element - 2 : 42\n",
    "element - 3 : 56\n",
    "element - 4 : 32\n",
    "Expected Output:"
   ]
  },
  {
   "cell_type": "code",
   "execution_count": null,
   "id": "c9077ed5",
   "metadata": {},
   "outputs": [],
   "source": [
    "def separate_odd_even(numbers):\n",
    "    \n",
    "    odd_elements = []\n",
    "    even_elements = []\n",
    "    \n",
    "    for number in numbers:\n",
    "        if number % 2 == 0: \n",
    "            even_elements.append(number)\n",
    "        else: \n",
    "            odd_elements.append(number)\n",
    "    \n",
    "    return odd_elements, even_elements\n",
    "\n",
    "\n",
    "numbers = [25, 47, 42, 56, 32]\n",
    "\n",
    "odd_elements, even_elements = separate_odd_even(numbers)\n",
    "\n",
    "print(\"\\n The even elements: \", even_elements)\n",
    "print(\"\\n The odd elements: \", odd_elements)\n",
    "\n",
    "\n",
    "#OUTPUT\n",
    "#The even elements:  [42, 56, 32]\n",
    "\n",
    "#The odd elements:  [25, 47]"
   ]
  },
  {
   "cell_type": "markdown",
   "id": "e3497517",
   "metadata": {},
   "source": [
    "Question 5\n",
    "a. Write a function inside(x,y,x1,y1,x2,y2) that returns True or False depending on whether the point (x,y) lies in the rectangle with lower left corner (x1,y1) and upper right corner (x2,y2).\n",
    ">>> inside(1,1,0,0,2,3)\n",
    "True\n",
    ">>> inside(-1,-1,0,0,2,3)\n",
    "False\n"
   ]
  },
  {
   "cell_type": "code",
   "execution_count": null,
   "id": "8f840989",
   "metadata": {},
   "outputs": [],
   "source": [
    "def inside(x,y,x1,x2,y1,y2):\n",
    "    if(x>x1 and y<y1):\n",
    "        if(x>x2 and y<y2):\n",
    "            print(\"true\")\n",
    "    else:\n",
    "        print(\"false\")\n",
    "\n",
    "\n",
    "inside(1, 1, 0, 0, 2, 3)\n",
    "inside(-1,-1,0,0,2,3)\n",
    "\n",
    "#OUTPUT\n",
    "#true\n",
    "#false"
   ]
  },
  {
   "cell_type": "markdown",
   "id": "70570e52",
   "metadata": {},
   "source": [
    "b. Use function inside() from part a. to write an expression that tests whether the point (1,1) lies in both of the following rectangles: one with lower left corner (0.3, 0.5) and upper right corner (1.1, 0.7) and the other with lower left corner (0.5, 0.2) and upper right corner (1.1, 2)."
   ]
  },
  {
   "cell_type": "code",
   "execution_count": null,
   "id": "8b31b4ab",
   "metadata": {},
   "outputs": [],
   "source": [
    "Point = (1,1)\n",
    "upper_right_corner = (0.5,0.2)\n",
    "lower_left_corner = (1.1,0.2)\n",
    "\n",
    "def inside(pt,r,l):\n",
    "    if(pt[0] > l[0] and pt[0] < r[0] and pt[1] > l[1] and pt[1] < r[1]):\n",
    "        return True\n",
    "    else:\n",
    "        return False\n",
    "print(inside(Point, upper_right_corner, lower_left_corner))\n",
    "\n",
    "#OUTPUT\n",
    "#False"
   ]
  },
  {
   "cell_type": "markdown",
   "id": "b9ed435c",
   "metadata": {},
   "source": [
    "Question 6\n",
    "You can turn a word into pig-Latin using the following two rules (simplified):\n",
    "• If the word starts with a consonant, move that letter to the end and append 'ay'. For example, 'happy' becomes 'appyhay' and 'pencil' becomes 'encilpay'.\n",
    "• If the word starts with a vowel, simply append 'way' to the end of the word. For example, 'enter' becomes 'enterway' and 'other' becomes 'otherway' . For our purposes, there are 5 vowels: a, e, i, o, u (so we count y as a consonant).\n",
    "Write a function pig() that takes a word (i.e., a string) as input and returns its pig-Latin form. Your function should still work if the input word contains upper case characters. Your output should always be lower case however.>>> pig('happy')\n",
    "'appyhay'>>> pig('Enter')\n",
    "'enterway'"
   ]
  },
  {
   "cell_type": "code",
   "execution_count": null,
   "id": "c18f2312",
   "metadata": {},
   "outputs": [],
   "source": [
    "def pig(string):\n",
    "    string = string.lower()\n",
    "    \n",
    "    vowel = \"aeiou\"\n",
    "    \n",
    "    if string[0] not in vowel:\n",
    "        return string[1:] + string[0] + 'ay'\n",
    "    else:\n",
    "        return string + 'way'\n",
    "\n",
    "\n",
    "print(pig('happy')) \n",
    "print(pig('Enter'))  \n",
    "\n",
    "#OUTPUT\n",
    "#appyhay\n",
    "#enterway\n"
   ]
  },
  {
   "cell_type": "markdown",
   "id": "8c6c3fff",
   "metadata": {},
   "source": [
    "Question 7\n",
    "File bloodtype1.txt records blood-types of patients (A, B, AB, O or OO) at a clinic. Write a function bldcount() that reads the file with name name and reports (i.e., prints) how many patients there are in each bloodtype.>>> bldcount('bloodtype.txt')\n",
    "There are 10 patients of blood type A.\n",
    "There is one patient of blood type B.\n",
    "There are 10 patients of blood type AB.\n",
    "There are 12 patients of blood type O.\n",
    "There are no patients of blood type OO."
   ]
  },
  {
   "cell_type": "code",
   "execution_count": null,
   "id": "94e42e18",
   "metadata": {},
   "outputs": [],
   "source": [
    "def bldcount(filename):\n",
    "    blood_type_numbers = {'A': 0, 'B': 0, 'AB': 0, 'O': 0, 'OO': 0}\n",
    "    \n",
    "    try:\n",
    "        \n",
    "        with open(filename, 'r') as file:\n",
    "            data = file.read()\n",
    "            \n",
    "           \n",
    "            blood_types = data.split()\n",
    "            for blood in blood_types:\n",
    "                if blood in blood_type_numbers:\n",
    "                    blood_type_numbers[blood] += 1\n",
    "    \n",
    "        for Bloods, count in blood_type_numbers.items():\n",
    "            print(f\"Blood type {Bloods}: {count} patients\")\n",
    "    \n",
    "    except notFoundError:\n",
    "        print(\"file not found.\")\n",
    "        \n",
    "bldcount('/Users/yaazhinimurugavel/Downloads/problem set-1/bloodtype.txt')\n",
    "\n",
    "#OUTPUT\n",
    "#Blood type A: 15 patients\n",
    "#Blood type B: 1 patients\n",
    "#Blood type AB: 13 patients\n",
    "#Blood type O: 15 patients\n",
    "#Blood type OO: 0 patients\n",
    "\n"
   ]
  },
  {
   "cell_type": "markdown",
   "id": "92d5cf6d",
   "metadata": {},
   "source": [
    "Question 8\n",
    "Write a function curconv() that takes as input:\n",
    "1. a currency represented using a string (e.g., 'JPY' for the Japanese Yen or 'EUR' for the Euro)\n",
    "2. an amount\n",
    "and then converts and returns the amount in US dollars.>>> curconv('EUR', 100)\n",
    "122.96544>>> curconv('JPY', 100) 1.241401\n",
    "The currency rates you will need are stored in file currencies.txt:"
   ]
  },
  {
   "cell_type": "code",
   "execution_count": null,
   "id": "37306d4f",
   "metadata": {},
   "outputs": [],
   "source": [
    "def curr(currency, amount):\n",
    " \n",
    "        f = cu.read_csv('/Users/yaazhinimurugavel/Downloads/problem set-1/currency.txt', sep='\\t', header=None,\n",
    "                         names=['Currency', 'Rate', 'Name'], decimal=',')\n",
    "\n",
    "        f.set_index('Currency', inplace=True)\n",
    "        \n",
    "        if currency in f.index:\n",
    "            \n",
    "            rate = float(f.loc[currency, 'Rate'])\n",
    "            usd_amt = amt * rate\n",
    "            \n",
    "            return usd_amt\n",
    "        \n",
    "        else:\n",
    "            return f\"'{currency}' not found.\"\n",
    "\n",
    "print(curr('EUR', 100))  \n",
    "print(curr('JPY', 100)) \n",
    "\n",
    "#Output\n",
    "#122.96544\n",
    "#1.241401\n",
    "\n"
   ]
  },
  {
   "cell_type": "markdown",
   "id": "efcd3730",
   "metadata": {},
   "source": [
    "Question 9\n",
    "Each of the following will cause an exception (an error). Identify what type of exception each will cause."
   ]
  },
  {
   "cell_type": "code",
   "execution_count": null,
   "id": "6239d5f9",
   "metadata": {},
   "outputs": [],
   "source": [
    "Trying to add incompatible variables, as in adding 6 + ‘a’--->TypeError : unsupported operand type(s) for +: 'int' and 'str'\n",
    "Referring to the 12th item of a list that has only 10 items-->IndexError :list index out of range\n",
    "Using a value that is out of range for a function’s input, such as calling math.sqrt( 1.0)-->ValueError: math domain error\n",
    "Using an undeclared variable, such as p rint(x) when x has not been defined-->NameError: name 'x' is not defined\n",
    "Trying to open a file that does not exist, such as mistyping the file name or looking in the wrong directory.-->FileNotFoundError"
   ]
  },
  {
   "cell_type": "markdown",
   "id": "e80080db",
   "metadata": {},
   "source": [
    "Question 10 Python\n",
    "Encryption is the process of hiding the meaning of a text by substituting letters in the message with other letters, according to some system. If the process is successful, no one but the intended recipient can understand the encrypted message. Cryptanalysis refers to attempts to undo the encryption, even if some details of the encryption are unknown (for example, if an encrypted message has been intercepted). The first step of cryptanalysis is often to build up a table of letter frequencies in the encrypted text. Assume that the string letters is already defined as 'abcdefghijklmnopqrstuvwxyz'. Write a function called frequencies() that takes a string as its only parameter, and returns a list of integers, showing the number of times each character appears in the text. Your function may ignore any characters that are not in letters.>>> frequencies('The quick red fox got bored and went home.')\n",
    "[1, 1, 1, 3, 5, 1, 1, 2, 1, 0, 1, 0, 1, 2, 4, 0, 1, 2, 0, 2, 1, 0, 1, 1, 0, 0] >>> frequencies('apple')"
   ]
  },
  {
   "cell_type": "code",
   "execution_count": null,
   "id": "e130296d",
   "metadata": {},
   "outputs": [],
   "source": [
    "def frequencies(texts):\n",
    "    alphabets = 'abcdefghijklmnopqrstuvwxyz'\n",
    "  \n",
    "    frequency = [0] * 26\n",
    "    texts = texts.lower()\n",
    "    for char in texts:\n",
    "        if char in alphabets:\n",
    "            \n",
    "            i = alphabets.i(char)\n",
    "            frequency[i] += 1\n",
    "    \n",
    "    return frequency\n",
    "\n",
    "\n",
    "print(frequencies('The quick red fox got bored and went home.'))\n",
    "print(frequencies('apple'))\n",
    "\n",
    "#OUTPUT\n",
    "#[1, 1, 1, 3, 5, 1, 1, 2, 1, 0, 1, 0, 1, 2, 4, 0, 1, 2, 0, 3, 1, 0, 1, 1, 0, 0]\n",
    "#[1, 0, 0, 0, 1, 0, 0, 0, 0, 0, 0, 1, 0, 0, 0, 2, 0, 0, 0, 0, 0, 0, 0, 0, 0, 0]\n"
   ]
  },
  {
   "cell_type": "code",
   "execution_count": null,
   "id": "526cfe2c",
   "metadata": {},
   "outputs": [],
   "source": []
  }
 ],
 "metadata": {
  "kernelspec": {
   "display_name": "Python 3 (ipykernel)",
   "language": "python",
   "name": "python3"
  },
  "language_info": {
   "codemirror_mode": {
    "name": "ipython",
    "version": 3
   },
   "file_extension": ".py",
   "mimetype": "text/x-python",
   "name": "python",
   "nbconvert_exporter": "python",
   "pygments_lexer": "ipython3",
   "version": "3.11.5"
  }
 },
 "nbformat": 4,
 "nbformat_minor": 5
}
